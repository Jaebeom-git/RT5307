{
 "cells": [
  {
   "cell_type": "code",
   "execution_count": 19,
   "metadata": {},
   "outputs": [],
   "source": [
    "import os\n",
    "import pandas as pd\n",
    "import numpy as np"
   ]
  },
  {
   "cell_type": "markdown",
   "metadata": {},
   "source": [
    "# Make Mergered Data"
   ]
  },
  {
   "cell_type": "code",
   "execution_count": 20,
   "metadata": {},
   "outputs": [],
   "source": [
    "# 기본 경로 설정\n",
    "base_dir = 'Subjects'\n",
    "subject_prefix = 'AB'\n",
    "subfolders = ['levelground', 'ramp', 'stair']"
   ]
  },
  {
   "cell_type": "code",
   "execution_count": 33,
   "metadata": {},
   "outputs": [],
   "source": [
    "# Subjects 폴더 내 모든 서브젝트 폴더 탐색\n",
    "subject_dirs = [d for d in os.listdir(base_dir) if d.startswith(subject_prefix)]\n",
    "\n",
    "# 각 서브젝트 폴더 순회\n",
    "for subject in subject_dirs:\n",
    "    subject_dir = os.path.join(base_dir, subject)\n",
    "    \n",
    "    for subfolder in subfolders:\n",
    "        conditions_dir = os.path.join(subject_dir, subfolder, 'conditions')\n",
    "        imu_dir = os.path.join(subject_dir, subfolder, 'imu')\n",
    "        \n",
    "        if not os.path.exists(conditions_dir) or not os.path.exists(imu_dir):\n",
    "            continue\n",
    "        \n",
    "        # 조건 폴더 내 모든 CSV 파일 탐색\n",
    "        condition_files = [f for f in os.listdir(conditions_dir) if f.endswith('.csv')]\n",
    "        \n",
    "        for condition_file in condition_files:\n",
    "            condition_file_path = os.path.join(conditions_dir, condition_file)\n",
    "            imu_file_path = os.path.join(imu_dir, condition_file.replace('_labels', ''))\n",
    "            \n",
    "            if not os.path.exists(imu_file_path):\n",
    "                print(f'Matching IMU file not found for {condition_file_path}')\n",
    "                continue\n",
    "            \n",
    "            # CSV 파일 로드\n",
    "            condition_df = pd.read_csv(condition_file_path)\n",
    "            imu_df = pd.read_csv(imu_file_path)\n",
    "            \n",
    "            # 'Header' 열 이름을 'time'으로 변경\n",
    "            condition_df = condition_df.rename(columns={'Header': 'time'})\n",
    "            imu_df = imu_df.rename(columns={'Header': 'time'})\n",
    "            \n",
    "            # 'time' 열을 기준으로 데이터 병합\n",
    "            merged_df = pd.merge(condition_df, imu_df, on='time', how='inner')\n",
    "            \n",
    "            # 결과 출력\n",
    "            # print(f'Merged DataFrame for {condition_file_path} and {imu_file_path}:\\n', merged_df.head())\n",
    "            \n",
    "            # 필요한 경우, 병합된 데이터를 새로운 CSV 파일로 저장\n",
    "            output_dir = os.path.join(subject_dir, subfolder, 'train_data__IMU')\n",
    "            os.makedirs(output_dir, exist_ok=True)\n",
    "            output_file_path = os.path.join(output_dir, f'{condition_file}')\n",
    "            merged_df.to_csv(output_file_path, index=False)\n"
   ]
  },
  {
   "cell_type": "markdown",
   "metadata": {},
   "source": [
    "# Make X & Y"
   ]
  },
  {
   "cell_type": "code",
   "execution_count": 21,
   "metadata": {},
   "outputs": [
    {
     "name": "stdout",
     "output_type": "stream",
     "text": [
      "X_data shape: (2990,)\n",
      "Y_data shape: (2990,)\n"
     ]
    }
   ],
   "source": [
    "# 데이터를 저장할 리스트 초기화\n",
    "X_list = []\n",
    "Y_list = []\n",
    "\n",
    "# Subjects 폴더 내 모든 서브젝트 폴더 탐색\n",
    "subject_dirs = [d for d in os.listdir(base_dir) if d.startswith(subject_prefix)]\n",
    "\n",
    "# 각 서브젝트 폴더 순회\n",
    "for subject in subject_dirs:\n",
    "    subject_dir = os.path.join(base_dir, subject)\n",
    "    \n",
    "    for subfolder in subfolders:\n",
    "        merged_dir = os.path.join(subject_dir, subfolder, 'train_data__IMU')\n",
    "        \n",
    "        if not os.path.exists(merged_dir):\n",
    "            continue\n",
    "        \n",
    "        # 병합된 데이터 폴더 내 모든 CSV 파일 탐색\n",
    "        merged_files = [f for f in os.listdir(merged_dir) if f.endswith('.csv')]\n",
    "        \n",
    "        for merged_file in merged_files:\n",
    "            merged_file_path = os.path.join(merged_dir, merged_file)\n",
    "            \n",
    "            # CSV 파일 로드\n",
    "            df = pd.read_csv(merged_file_path)\n",
    "            \n",
    "            # 'time' 열 제거\n",
    "            if 'time' in df.columns:\n",
    "                df = df.drop(columns=['time'])\n",
    "            \n",
    "            # 'Label' 열을 Y로 설정하고 나머지 열을 X로 설정\n",
    "            if 'Label' in df.columns:\n",
    "                X = df.drop(columns=['Label'])\n",
    "                Y = df['Label']\n",
    "            else:\n",
    "                print(f'Label column not found in {merged_file_path}')\n",
    "                continue\n",
    "            \n",
    "            # 데이터를 리스트에 추가\n",
    "            X_list.append(X)\n",
    "            Y_list.append(Y)\n",
    "\n",
    "# 리스트를 numpy 배열로 변환 (dtype=object 지정)\n",
    "X_data = np.array(X_list, dtype=object)\n",
    "Y_data = np.array(Y_list, dtype=object)\n",
    "\n",
    "# 결과 출력 (형태 확인)\n",
    "print('X_data shape:', X_data.shape)\n",
    "print('Y_data shape:', Y_data.shape)\n",
    "\n",
    "# 데이터를 파일로 저장\n",
    "np.save('X_data.npy', X_data)\n",
    "np.save('Y_data.npy', Y_data)"
   ]
  },
  {
   "cell_type": "code",
   "execution_count": null,
   "metadata": {},
   "outputs": [],
   "source": []
  }
 ],
 "metadata": {
  "kernelspec": {
   "display_name": "bw2024",
   "language": "python",
   "name": "python3"
  },
  "language_info": {
   "codemirror_mode": {
    "name": "ipython",
    "version": 3
   },
   "file_extension": ".py",
   "mimetype": "text/x-python",
   "name": "python",
   "nbconvert_exporter": "python",
   "pygments_lexer": "ipython3",
   "version": "undefined.undefined.undefined"
  }
 },
 "nbformat": 4,
 "nbformat_minor": 2
}
